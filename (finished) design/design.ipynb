{
 "cells": [
  {
   "cell_type": "markdown",
   "metadata": {},
   "source": [
    "# Design\n",
    "\n"
   ]
  },
  {
   "cell_type": "markdown",
   "metadata": {},
   "source": [
    "### Challenge Name: fw_protect (/embsec/design/fw_protect)\n",
    "\n",
    "The purpose of this tool will be to secure the firmware. Eventually,\n",
    "you will want to keep the firmware confidential and be able to verify its integrity and authenticity. But for now, \n",
    "you will implement a firmware protect tool that does not add security. This tool should simply:\n",
    "\n",
    "    1. Pack the version \"0\" into a little-endian short\n",
    "    2. Load the firmware binary from firmware.bin\n",
    "    3. Pack the size of the firmware into a little-endian short\n",
    "    4. Append the release message \"First version of firmware.\" to end of firmware (make sure it is null-terminated)\n",
    "    5. Build and send a binary blob in the following format to the grader:\n",
    "    \n",
    "        [ 0x2 ]      [ 0x2 ]      [ variable ]           [ variable ]\n",
    "        -------------------------------------------------------------------------\n",
    "        version | firmware size |   firmware   |   release message + null-byte   \n",
    "\n",
    "\n"
   ]
  },
  {
   "cell_type": "code",
   "execution_count": 1,
   "metadata": {},
   "outputs": [
    {
     "name": "stdout",
     "output_type": "stream",
     "text": [
      "ooooh, we're\n",
      "halfway there\n",
      "almost there\n"
     ]
    },
    {
     "data": {
      "text/plain": [
       "b'embsec{fw_protect_1bde280499315e29}\\n'"
      ]
     },
     "execution_count": 1,
     "metadata": {},
     "output_type": "execute_result"
    }
   ],
   "source": [
    "from embsec import Serial\n",
    "import struct\n",
    "\n",
    "def fw_protect():\n",
    "    ser = Serial(\"/embsec/design/fw_protect\")\n",
    "    # Your code goes here!\n",
    "    with open('firmware_0.bin', 'rb') as binary_file:\n",
    "        firmware_update = binary_file.read()\n",
    "    print(\"ooooh, we're\")\n",
    "    size = len(firmware_update)\n",
    "    print(\"halfway there\")\n",
    "    b = bytes(\"First version of firmware.\\0\", 'utf-8')\n",
    "    \n",
    "    ser.write(struct.pack(f\"<hh{size}s{len(b)}s\", 0, size, firmware_update, b))\n",
    "    print(\"almost there\")\n",
    "    return ser.read_until()\n",
    "fw_protect()\n"
   ]
  },
  {
   "cell_type": "markdown",
   "metadata": {},
   "source": [
    "### Challenge Name: fw_update (/embsec/design/fw_update)\n",
    "\n",
    "For this lesson you will implement a basic update tool for the design challenge.\n",
    "The tool will be used to update the device firmware. You should focus on reading in the firmware blob file, \n",
    "and constructing a set of frames to send to the bootloader. Pay attention to the structure of these \n",
    "frames, as the bootloader is expecting a certain size and format.\n",
    "\n",
    "The bootloader is expecting frames of the following format:\n",
    "\n",
    "      [ 0x2 ]    [ variable ]\n",
    "    ----------------------------\n",
    "    frame size |   data... \n",
    "\n",
    "Process:\n",
    "\n",
    "1. Read in binary blob\n",
    "2. Construct frames from blob\n",
    "3. Send a 'U' for update mode & receive a confirmation 'U'\n",
    "4. Send frames sequentially to boot loader\n",
    "\n"
   ]
  },
  {
   "cell_type": "code",
   "execution_count": 42,
   "metadata": {},
   "outputs": [
    {
     "name": "stdout",
     "output_type": "stream",
     "text": [
      "bytearray(b'U')\n",
      "we've survived 2\n",
      "reading 4\n",
      "bytearray(b'\\x00')\n",
      "reading 6\n",
      "bytearray(b'\\x00')\n",
      "reading 8\n",
      "bytearray(b'\\x00')\n",
      "reading 10\n",
      "bytearray(b'\\x00')\n",
      "reading 12\n",
      "bytearray(b'\\x00')\n",
      "reading 14\n",
      "bytearray(b'\\x00')\n",
      "reading 16\n",
      "bytearray(b'\\x00')\n",
      "reading 18\n",
      "bytearray(b'\\x00')\n",
      "reading 20\n",
      "bytearray(b'\\x00')\n",
      "reading 22\n",
      "bytearray(b'\\x00')\n",
      "reading 24\n",
      "bytearray(b'\\x00')\n",
      "reading 26\n",
      "bytearray(b'\\x00')\n",
      "reading 28\n",
      "bytearray(b'\\x00')\n",
      "reading 30\n",
      "bytearray(b'\\x00')\n",
      "reading 32\n",
      "bytearray(b'\\x00')\n",
      "reading 34\n",
      "bytearray(b'\\x00')\n",
      "reading 36\n",
      "bytearray(b'\\x00')\n",
      "reading 38\n",
      "bytearray(b'\\x00')\n",
      "reading 40\n",
      "bytearray(b'\\x00')\n",
      "reading 42\n",
      "bytearray(b'\\x00')\n",
      "reading 44\n",
      "bytearray(b'\\x00')\n",
      "reading 46\n",
      "bytearray(b'\\x00')\n",
      "reading 48\n",
      "bytearray(b'\\x00')\n",
      "reading 50\n",
      "bytearray(b'\\x00')\n",
      "reading 52\n",
      "bytearray(b'\\x00')\n",
      "reading 54\n",
      "bytearray(b'\\x00')\n",
      "reading 56\n",
      "bytearray(b'\\x00')\n",
      "reading 58\n",
      "bytearray(b'\\x00')\n",
      "reading 60\n",
      "bytearray(b'\\x00')\n",
      "reading 62\n",
      "bytearray(b'\\x00')\n",
      "reading 64\n",
      "bytearray(b'\\x00')\n",
      "reading 66\n",
      "bytearray(b'\\x00')\n",
      "reading 68\n",
      "bytearray(b'\\x00')\n",
      "finished\n"
     ]
    },
    {
     "data": {
      "text/plain": [
       "b'embsec{fw_update_2316313f222d900f}\\n'"
      ]
     },
     "execution_count": 42,
     "metadata": {},
     "output_type": "execute_result"
    }
   ],
   "source": [
    "from embsec import Serial\n",
    "import struct\n",
    "\n",
    "def fw_update():\n",
    "    ser = Serial(\"/embsec/design/fw_update\")\n",
    "    # Your code goes here!\n",
    "    with open('firmware_1.blob', 'rb') as f_blob:\n",
    "        blob_contents = f_blob.read()\n",
    "    \n",
    "    data_size = len(blob_contents)\n",
    "    frame_size = 2\n",
    "    ser.write(b'U')\n",
    "    print(ser.read(1))\n",
    "    ser.write(blob_contents[:4])\n",
    "    ser.read(1)\n",
    "    print(\"we've survived\", frame_size)\n",
    "    for i in range(4, data_size, frame_size):\n",
    "        print(\"reading\", i)\n",
    "        chunk = blob_contents[i : i+frame_size]\n",
    "        ser.write(struct.pack(f'>h{frame_size}s', frame_size, chunk))\n",
    "        print(ser.read(1))\n",
    "    \n",
    "    print(\"finished\")\n",
    "    ser.write(struct.pack(f'>h', 0))\n",
    "    \n",
    "    return ser.read_until()\n",
    "    \n",
    "fw_update()\n"
   ]
  }
 ],
 "metadata": {
  "kernelspec": {
   "display_name": "Python 3",
   "language": "python",
   "name": "python3"
  },
  "language_info": {
   "codemirror_mode": {
    "name": "ipython",
    "version": 3
   },
   "file_extension": ".py",
   "mimetype": "text/x-python",
   "name": "python",
   "nbconvert_exporter": "python",
   "pygments_lexer": "ipython3",
   "version": "3.7.6"
  }
 },
 "nbformat": 4,
 "nbformat_minor": 4
}
